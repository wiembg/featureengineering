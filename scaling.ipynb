{
  "nbformat": 4,
  "nbformat_minor": 0,
  "metadata": {
    "colab": {
      "name": "scaling.ipynb",
      "provenance": [],
      "collapsed_sections": [],
      "authorship_tag": "ABX9TyO2OvNmNtXm4Ulf64IXEsYL",
      "include_colab_link": true
    },
    "kernelspec": {
      "name": "python3",
      "display_name": "Python 3"
    },
    "language_info": {
      "name": "python"
    }
  },
  "cells": [
    {
      "cell_type": "markdown",
      "metadata": {
        "id": "view-in-github",
        "colab_type": "text"
      },
      "source": [
        "<a href=\"https://colab.research.google.com/github/wawabg/feature-engineer/blob/master/scaling.ipynb\" target=\"_parent\"><img src=\"https://colab.research.google.com/assets/colab-badge.svg\" alt=\"Open In Colab\"/></a>"
      ]
    },
    {
      "cell_type": "code",
      "execution_count": 3,
      "metadata": {
        "colab": {
          "base_uri": "https://localhost:8080/"
        },
        "id": "QyFsszbYR5fF",
        "outputId": "0f4ae72c-d776-443c-c5e0-0f7e79e45489"
      },
      "outputs": [
        {
          "output_type": "stream",
          "name": "stdout",
          "text": [
            "Before Scaling [[-100.3]\n",
            " [  27.5]\n",
            " [   0. ]\n",
            " [-200.9]\n",
            " [1000. ]]\n",
            "After standard scaler [[-0.5646401 ]\n",
            " [-0.27077707]\n",
            " [-0.33401051]\n",
            " [-0.79595951]\n",
            " [ 1.96538718]]\n"
          ]
        }
      ],
      "source": [
        "import numpy as np\n",
        "from sklearn import preprocessing\n",
        "data = np.array([[-100.3],\n",
        "[27.5],[0],[-200.9],[1000]])\n",
        "print('Before Scaling',data)\n",
        "standard_scaler = preprocessing.StandardScaler()\n",
        "scaled = standard_scaler.fit_transform(data)\n",
        "print('After standard scaler',scaled)"
      ]
    },
    {
      "cell_type": "code",
      "source": [
        "#Min-Max Scaler\n",
        "import numpy as np\n",
        "from sklearn import preprocessing\n",
        "data1 = np.array([[-100.3],[27.5],[0],[-200.9],[1000]])\n",
        "print('Before scaling',data1)\n",
        "minmax_scale = preprocessing.MinMaxScaler(feature_range=(1, 2))\n",
        "scaled = minmax_scale.fit_transform(data1)\n",
        "print('After Min-Max Scaler',scaled)"
      ],
      "metadata": {
        "colab": {
          "base_uri": "https://localhost:8080/"
        },
        "id": "wRfIZDc2SFGz",
        "outputId": "fc5f95d4-7377-46fb-b085-0bb61e0cc145"
      },
      "execution_count": 2,
      "outputs": [
        {
          "output_type": "stream",
          "name": "stdout",
          "text": [
            "Before scalingn [[-100.3]\n",
            " [  27.5]\n",
            " [   0. ]\n",
            " [-200.9]\n",
            " [1000. ]]\n",
            "nAfter Min-Max Scalern [[1.08377051]\n",
            " [1.19019069]\n",
            " [1.1672912 ]\n",
            " [1.        ]\n",
            " [2.        ]]\n"
          ]
        }
      ]
    },
    {
      "cell_type": "code",
      "source": [
        ""
      ],
      "metadata": {
        "id": "eg7hSlAfSPhr"
      },
      "execution_count": null,
      "outputs": []
    }
  ]
}