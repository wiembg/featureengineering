{
  "nbformat": 4,
  "nbformat_minor": 0,
  "metadata": {
    "colab": {
      "name": "DetectingOutliers.ipynb",
      "provenance": [],
      "collapsed_sections": [],
      "authorship_tag": "ABX9TyPSEiP6/5N5XVFUcsf5RkqQ",
      "include_colab_link": true
    },
    "kernelspec": {
      "name": "python3",
      "display_name": "Python 3"
    },
    "language_info": {
      "name": "python"
    }
  },
  "cells": [
    {
      "cell_type": "markdown",
      "metadata": {
        "id": "view-in-github",
        "colab_type": "text"
      },
      "source": [
        "<a href=\"https://colab.research.google.com/github/wawabg/feature-engineer/blob/master/DetectingOutliers.ipynb\" target=\"_parent\"><img src=\"https://colab.research.google.com/assets/colab-badge.svg\" alt=\"Open In Colab\"/></a>"
      ]
    },
    {
      "cell_type": "code",
      "execution_count": 3,
      "metadata": {
        "colab": {
          "base_uri": "https://localhost:8080/"
        },
        "id": "27i7V9cEcXkB",
        "outputId": "f3979b13-91c9-49b4-dadd-6d70d3961e65"
      },
      "outputs": [
        {
          "output_type": "stream",
          "name": "stdout",
          "text": [
            "Mean of the kids age in the given series : 8.73076923076923\n",
            "STD Deviation of kids age in the given series : 5.050191864654499\n",
            "Outlier in the dataset is (Teen agers): [25]\n"
          ]
        }
      ],
      "source": [
        "#Z-Score method:In which the distribution of data in the form mean is 0 and the standard deviation (SD) is 1 as Normal Distribution format\n",
        "import numpy as np  \n",
        "kids_age = [1, 2, 4, 8, 3, 8, 11, 15, 12, 6, 6, 3, 6, 7, 12,9,5,5,7,10,10,11,13,14,14,25] \n",
        "mean = np.mean(kids_age) \n",
        "std = np.std(kids_age) \n",
        "print('Mean of the kid''s age in the given series :', mean) \n",
        "print('STD Deviation of kid''s age in the given series :', std)\n",
        "threshold = 3\n",
        "outlier = [] \n",
        "for i in kids_age: \n",
        "    z = (i-mean)/std \n",
        "    if z > threshold: \n",
        "        outlier.append(i) \n",
        "print('Outlier in the dataset is (Teen agers):', outlier)"
      ]
    },
    {
      "cell_type": "code",
      "source": [
        "#IQR) Score method: In which data has been divided into quartiles (Q1, Q2, and Q3)\n",
        "#25th percentile of the data – Q1\n",
        "#50th percentile of the data – Q2\n",
        "#75th percentile of the data – Q3\n",
        "import numpy as np  \n",
        "import seaborn as sns\n",
        "# jr_boxing_weight_categories\n",
        "jr_boxing_weight_categories = [25,30,35,40,45,50,45,35,50,60,120,150] \n",
        "Q1 = np.percentile(jr_boxing_weight_categories, 25, interpolation = 'midpoint')\n",
        "Q2 = np.percentile(jr_boxing_weight_categories, 50, interpolation = 'midpoint')  \n",
        "Q3 = np.percentile(jr_boxing_weight_categories, 75, interpolation = 'midpoint')\n",
        "IQR = Q3 - Q1\n",
        "print('Interquartile range is', IQR)\n",
        "low_lim = Q1 - 1.5 * IQR\n",
        "up_lim = Q3 + 1.5 * IQR\n",
        "print('low_limit is', low_lim)\n",
        "print('up_limit is', up_lim)\n",
        "outlier =[]\n",
        "for x in jr_boxing_weight_categories:\n",
        "    if ((x> up_lim) or (x<low_lim)):\n",
        "         outlier.append(x)\n",
        "print(' outlier in the dataset is', outlier)\n",
        "sns.boxplot(jr_boxing_weight_categories)"
      ],
      "metadata": {
        "colab": {
          "base_uri": "https://localhost:8080/",
          "height": 407
        },
        "id": "u-uwB4sedlcl",
        "outputId": "ca5a9176-62de-44a5-d03f-bf9fd07c7444"
      },
      "execution_count": 6,
      "outputs": [
        {
          "output_type": "stream",
          "name": "stdout",
          "text": [
            "Interquartile range is 20.0\n",
            "low_limit is 5.0\n",
            "up_limit is 85.0\n",
            " outlier in the dataset is [120, 150]\n"
          ]
        },
        {
          "output_type": "stream",
          "name": "stderr",
          "text": [
            "/usr/local/lib/python3.7/dist-packages/seaborn/_decorators.py:43: FutureWarning: Pass the following variable as a keyword arg: x. From version 0.12, the only valid positional argument will be `data`, and passing other arguments without an explicit keyword will result in an error or misinterpretation.\n",
            "  FutureWarning\n"
          ]
        },
        {
          "output_type": "execute_result",
          "data": {
            "text/plain": [
              "<matplotlib.axes._subplots.AxesSubplot at 0x7f23e1ea0f90>"
            ]
          },
          "metadata": {},
          "execution_count": 6
        },
        {
          "output_type": "display_data",
          "data": {
            "image/png": "[encoded data removed]",
            "text/plain": [
              "<Figure size 432x288 with 1 Axes>"
            ]
          },
          "metadata": {
            "needs_background": "light"
          }
        }
      ]
    }
  ]
}