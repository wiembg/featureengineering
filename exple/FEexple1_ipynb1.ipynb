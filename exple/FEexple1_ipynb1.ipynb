{
  "nbformat": 4,
  "nbformat_minor": 0,
  "metadata": {
    "colab": {
      "name": "FEexple1.ipynb1",
      "provenance": [],
      "collapsed_sections": [],
      "authorship_tag": "ABX9TyPmCe9UkV0sZJ1aZW4dxhP+",
      "include_colab_link": true
    },
    "kernelspec": {
      "name": "python3",
      "display_name": "Python 3"
    },
    "language_info": {
      "name": "python"
    }
  },
  "cells": [
    {
      "cell_type": "markdown",
      "metadata": {
        "id": "view-in-github",
        "colab_type": "text"
      },
      "source": [
        "<a href=\"https://colab.research.google.com/github/wawabg/feature-engineer/blob/exemple1/FEexple1_ipynb1.ipynb\" target=\"_parent\"><img src=\"https://colab.research.google.com/assets/colab-badge.svg\" alt=\"Open In Colab\"/></a>"
      ]
    },
    {
      "cell_type": "code",
      "execution_count": 11,
      "metadata": {
        "colab": {
          "base_uri": "https://localhost:8080/",
          "height": 206
        },
        "id": "H911KXkiLHla",
        "outputId": "e81ac4dd-dd5a-42b0-92a5-e5bfe7b49866"
      },
      "outputs": [
        {
          "output_type": "execute_result",
          "data": {
            "text/html": [
              "<div>\n",
              "<style scoped>\n",
              "    .dataframe tbody tr th:only-of-type {\n",
              "        vertical-align: middle;\n",
              "    }\n",
              "\n",
              "    .dataframe tbody tr th {\n",
              "        vertical-align: top;\n",
              "    }\n",
              "\n",
              "    .dataframe thead th {\n",
              "        text-align: right;\n",
              "    }\n",
              "</style>\n",
              "<table border=\"1\" class=\"dataframe\">\n",
              "  <thead>\n",
              "    <tr style=\"text-align: right;\">\n",
              "      <th></th>\n",
              "      <th>Candy Variety</th>\n",
              "      <th>Date and Time</th>\n",
              "      <th>Day</th>\n",
              "      <th>Length</th>\n",
              "      <th>Breadth</th>\n",
              "      <th>Price</th>\n",
              "    </tr>\n",
              "  </thead>\n",
              "  <tbody>\n",
              "    <tr>\n",
              "      <th>0</th>\n",
              "      <td>Chocolate Hearts</td>\n",
              "      <td>2020-02-09 14:05:00</td>\n",
              "      <td>Sunday</td>\n",
              "      <td>3.0</td>\n",
              "      <td>2.0</td>\n",
              "      <td>7.5</td>\n",
              "    </tr>\n",
              "    <tr>\n",
              "      <th>1</th>\n",
              "      <td>Sour Jelly</td>\n",
              "      <td>2020-10-24 18:00:00</td>\n",
              "      <td>Saturday</td>\n",
              "      <td>3.5</td>\n",
              "      <td>2.0</td>\n",
              "      <td>7.6</td>\n",
              "    </tr>\n",
              "    <tr>\n",
              "      <th>2</th>\n",
              "      <td>Candy Canes</td>\n",
              "      <td>2020-12-18 20:13:00</td>\n",
              "      <td>Friday</td>\n",
              "      <td>3.5</td>\n",
              "      <td>2.5</td>\n",
              "      <td>8.0</td>\n",
              "    </tr>\n",
              "    <tr>\n",
              "      <th>3</th>\n",
              "      <td>SourJelly</td>\n",
              "      <td>2020-10-25 10:00:00</td>\n",
              "      <td>Sunday</td>\n",
              "      <td>3.5</td>\n",
              "      <td>2.0</td>\n",
              "      <td>7.6</td>\n",
              "    </tr>\n",
              "    <tr>\n",
              "      <th>4</th>\n",
              "      <td>Fruit Drops</td>\n",
              "      <td>2020-10-18 15:46:00</td>\n",
              "      <td>Sunday</td>\n",
              "      <td>5.0</td>\n",
              "      <td>3.0</td>\n",
              "      <td>9.0</td>\n",
              "    </tr>\n",
              "  </tbody>\n",
              "</table>\n",
              "</div>"
            ],
            "text/plain": [
              "      Candy Variety       Date and Time       Day  Length  Breadth  Price\n",
              "0  Chocolate Hearts 2020-02-09 14:05:00    Sunday     3.0      2.0    7.5\n",
              "1        Sour Jelly 2020-10-24 18:00:00  Saturday     3.5      2.0    7.6\n",
              "2       Candy Canes 2020-12-18 20:13:00    Friday     3.5      2.5    8.0\n",
              "3         SourJelly 2020-10-25 10:00:00    Sunday     3.5      2.0    7.6\n",
              "4       Fruit Drops 2020-10-18 15:46:00    Sunday     5.0      3.0    9.0"
            ]
          },
          "metadata": {},
          "execution_count": 11
        }
      ],
      "source": [
        "import pandas as pd\n",
        "data= {'Candy Variety':['Chocolate Hearts','Sour Jelly', 'Candy Canes', 'SourJelly', 'Fruit Drops'],\n",
        "       'Date and Time':['09-02-2020 14:05','24-10-2020 18:00', '18-12-2020 20:13','25-10-2020 10:00','18-10-2020 15:46'],\n",
        "       'Day' :['Sunday', 'Saturday', 'Friday','Sunday', 'Sunday'], \n",
        "       'Length':[3, 3.5,3.5, 3.5, 5], 'Breadth':[2,2,2.5,2,3], 'Price' :[7.5, 7.6, 8, 7.6, 9]}\n",
        "df = pd.DataFrame(data)\n",
        "df['Date and Time'] = pd.to_datetime(df['Date and Time'],format=\"%d-%m-%Y %H:%M\")\n",
        "df"
      ]
    },
    {
      "cell_type": "code",
      "source": [
        "df[ 'Date' ]=df['Date and Time'].dt.date\n",
        "df[['Candy Variety', 'Date' ]]"
      ],
      "metadata": {
        "colab": {
          "base_uri": "https://localhost:8080/",
          "height": 206
        },
        "id": "DW59mS08Mbs3",
        "outputId": "ee7eae4e-7b0a-4446-c758-265454c8e7f0"
      },
      "execution_count": 12,
      "outputs": [
        {
          "output_type": "execute_result",
          "data": {
            "text/html": [
              "<div>\n",
              "<style scoped>\n",
              "    .dataframe tbody tr th:only-of-type {\n",
              "        vertical-align: middle;\n",
              "    }\n",
              "\n",
              "    .dataframe tbody tr th {\n",
              "        vertical-align: top;\n",
              "    }\n",
              "\n",
              "    .dataframe thead th {\n",
              "        text-align: right;\n",
              "    }\n",
              "</style>\n",
              "<table border=\"1\" class=\"dataframe\">\n",
              "  <thead>\n",
              "    <tr style=\"text-align: right;\">\n",
              "      <th></th>\n",
              "      <th>Candy Variety</th>\n",
              "      <th>Date</th>\n",
              "    </tr>\n",
              "  </thead>\n",
              "  <tbody>\n",
              "    <tr>\n",
              "      <th>0</th>\n",
              "      <td>Chocolate Hearts</td>\n",
              "      <td>2020-02-09</td>\n",
              "    </tr>\n",
              "    <tr>\n",
              "      <th>1</th>\n",
              "      <td>Sour Jelly</td>\n",
              "      <td>2020-10-24</td>\n",
              "    </tr>\n",
              "    <tr>\n",
              "      <th>2</th>\n",
              "      <td>Candy Canes</td>\n",
              "      <td>2020-12-18</td>\n",
              "    </tr>\n",
              "    <tr>\n",
              "      <th>3</th>\n",
              "      <td>SourJelly</td>\n",
              "      <td>2020-10-25</td>\n",
              "    </tr>\n",
              "    <tr>\n",
              "      <th>4</th>\n",
              "      <td>Fruit Drops</td>\n",
              "      <td>2020-10-18</td>\n",
              "    </tr>\n",
              "  </tbody>\n",
              "</table>\n",
              "</div>"
            ],
            "text/plain": [
              "      Candy Variety        Date\n",
              "0  Chocolate Hearts  2020-02-09\n",
              "1        Sour Jelly  2020-10-24\n",
              "2       Candy Canes  2020-12-18\n",
              "3         SourJelly  2020-10-25\n",
              "4       Fruit Drops  2020-10-18"
            ]
          },
          "metadata": {},
          "execution_count": 12
        }
      ]
    },
    {
      "cell_type": "code",
      "source": [
        "import numpy as np\n",
        "df[ 'Weekend' ] = np.where(df['Day'].isin(['Saturday', 'Sunday']), 1, 0)\n",
        "df[['Candy Variety', 'Date', 'Weekend']]"
      ],
      "metadata": {
        "colab": {
          "base_uri": "https://localhost:8080/",
          "height": 206
        },
        "id": "fVkaSDJqObns",
        "outputId": "266000c1-54ef-4d16-90a6-4db7a105d244"
      },
      "execution_count": 14,
      "outputs": [
        {
          "output_type": "execute_result",
          "data": {
            "text/html": [
              "<div>\n",
              "<style scoped>\n",
              "    .dataframe tbody tr th:only-of-type {\n",
              "        vertical-align: middle;\n",
              "    }\n",
              "\n",
              "    .dataframe tbody tr th {\n",
              "        vertical-align: top;\n",
              "    }\n",
              "\n",
              "    .dataframe thead th {\n",
              "        text-align: right;\n",
              "    }\n",
              "</style>\n",
              "<table border=\"1\" class=\"dataframe\">\n",
              "  <thead>\n",
              "    <tr style=\"text-align: right;\">\n",
              "      <th></th>\n",
              "      <th>Candy Variety</th>\n",
              "      <th>Date</th>\n",
              "      <th>Weekend</th>\n",
              "    </tr>\n",
              "  </thead>\n",
              "  <tbody>\n",
              "    <tr>\n",
              "      <th>0</th>\n",
              "      <td>Chocolate Hearts</td>\n",
              "      <td>2020-02-09</td>\n",
              "      <td>1</td>\n",
              "    </tr>\n",
              "    <tr>\n",
              "      <th>1</th>\n",
              "      <td>Sour Jelly</td>\n",
              "      <td>2020-10-24</td>\n",
              "      <td>1</td>\n",
              "    </tr>\n",
              "    <tr>\n",
              "      <th>2</th>\n",
              "      <td>Candy Canes</td>\n",
              "      <td>2020-12-18</td>\n",
              "      <td>0</td>\n",
              "    </tr>\n",
              "    <tr>\n",
              "      <th>3</th>\n",
              "      <td>SourJelly</td>\n",
              "      <td>2020-10-25</td>\n",
              "      <td>1</td>\n",
              "    </tr>\n",
              "    <tr>\n",
              "      <th>4</th>\n",
              "      <td>Fruit Drops</td>\n",
              "      <td>2020-10-18</td>\n",
              "      <td>1</td>\n",
              "    </tr>\n",
              "  </tbody>\n",
              "</table>\n",
              "</div>"
            ],
            "text/plain": [
              "      Candy Variety        Date  Weekend\n",
              "0  Chocolate Hearts  2020-02-09        1\n",
              "1        Sour Jelly  2020-10-24        1\n",
              "2       Candy Canes  2020-12-18        0\n",
              "3         SourJelly  2020-10-25        1\n",
              "4       Fruit Drops  2020-10-18        1"
            ]
          },
          "metadata": {},
          "execution_count": 14
        }
      ]
    }
  ]
}