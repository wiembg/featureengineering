{
  "nbformat": 4,
  "nbformat_minor": 0,
  "metadata": {
    "colab": {
      "name": "FeatureEngi.ipynb",
      "provenance": [],
      "collapsed_sections": [],
      "authorship_tag": "ABX9TyM0HNWH4eBv6UgsWzTKCKMw",
      "include_colab_link": true
    },
    "kernelspec": {
      "name": "python3",
      "display_name": "Python 3"
    },
    "language_info": {
      "name": "python"
    }
  },
  "cells": [
    {
      "cell_type": "markdown",
      "metadata": {
        "id": "view-in-github",
        "colab_type": "text"
      },
      "source": [
        "<a href=\"https://colab.research.google.com/github/wawabg/isamm-flow-git/blob/master/FeatureEngi.ipynb\" target=\"_parent\"><img src=\"https://colab.research.google.com/assets/colab-badge.svg\" alt=\"Open In Colab\"/></a>"
      ]
    },
    {
      "cell_type": "code",
      "execution_count": null,
      "metadata": {
        "colab": {
          "base_uri": "https://localhost:8080/",
          "height": 206
        },
        "id": "3NRwD5JVW_tZ",
        "outputId": "3d710903-a5cd-4ad9-eba1-f4e5b15b9712"
      },
      "outputs": [
        {
          "output_type": "execute_result",
          "data": {
            "text/html": [
              "<div>\n",
              "<style scoped>\n",
              "    .dataframe tbody tr th:only-of-type {\n",
              "        vertical-align: middle;\n",
              "    }\n",
              "\n",
              "    .dataframe tbody tr th {\n",
              "        vertical-align: top;\n",
              "    }\n",
              "\n",
              "    .dataframe thead th {\n",
              "        text-align: right;\n",
              "    }\n",
              "</style>\n",
              "<table border=\"1\" class=\"dataframe\">\n",
              "  <thead>\n",
              "    <tr style=\"text-align: right;\">\n",
              "      <th></th>\n",
              "      <th>Candy Variety</th>\n",
              "      <th>Date and Time</th>\n",
              "      <th>Day</th>\n",
              "      <th>Length</th>\n",
              "      <th>Breadth</th>\n",
              "      <th>Price</th>\n",
              "    </tr>\n",
              "  </thead>\n",
              "  <tbody>\n",
              "    <tr>\n",
              "      <th>0</th>\n",
              "      <td>Chocolate Hearts</td>\n",
              "      <td>09-02-2020 14:05</td>\n",
              "      <td>Sunday</td>\n",
              "      <td>3.0</td>\n",
              "      <td>2.0</td>\n",
              "      <td>7.5</td>\n",
              "    </tr>\n",
              "    <tr>\n",
              "      <th>1</th>\n",
              "      <td>Sour Jelly</td>\n",
              "      <td>24-10-202018:00</td>\n",
              "      <td>Saturday</td>\n",
              "      <td>3.5</td>\n",
              "      <td>2.0</td>\n",
              "      <td>7.6</td>\n",
              "    </tr>\n",
              "    <tr>\n",
              "      <th>2</th>\n",
              "      <td>Candy Canes</td>\n",
              "      <td>18-12-2020 20:13</td>\n",
              "      <td>Friday</td>\n",
              "      <td>3.5</td>\n",
              "      <td>2.5</td>\n",
              "      <td>8.0</td>\n",
              "    </tr>\n",
              "    <tr>\n",
              "      <th>3</th>\n",
              "      <td>SourJelly</td>\n",
              "      <td>25-10-2020 10:00</td>\n",
              "      <td>Sunday</td>\n",
              "      <td>3.5</td>\n",
              "      <td>2.0</td>\n",
              "      <td>7.6</td>\n",
              "    </tr>\n",
              "    <tr>\n",
              "      <th>4</th>\n",
              "      <td>Fruit Drops</td>\n",
              "      <td>18-10-2020 15:46</td>\n",
              "      <td>Sunday</td>\n",
              "      <td>5.0</td>\n",
              "      <td>3.0</td>\n",
              "      <td>9.0</td>\n",
              "    </tr>\n",
              "  </tbody>\n",
              "</table>\n",
              "</div>"
            ],
            "text/plain": [
              "      Candy Variety      Date and Time       Day  Length  Breadth  Price\n",
              "0  Chocolate Hearts   09-02-2020 14:05    Sunday     3.0      2.0    7.5\n",
              "1        Sour Jelly    24-10-202018:00  Saturday     3.5      2.0    7.6\n",
              "2       Candy Canes   18-12-2020 20:13    Friday     3.5      2.5    8.0\n",
              "3         SourJelly   25-10-2020 10:00    Sunday     3.5      2.0    7.6\n",
              "4       Fruit Drops   18-10-2020 15:46    Sunday     5.0      3.0    9.0"
            ]
          },
          "metadata": {},
          "execution_count": 2
        }
      ],
      "source": [
        "import pandas as pd\n",
        "data={'Candy Variety':['Chocolate Hearts','Sour Jelly','Candy Canes','SourJelly','Fruit Drops'], 'Date and Time':['09-02-2020 14:05','24-10-202018:00','18-12-2020 20:13',' 25-10-2020 10:00','18-10-2020 15:46'],'Day' :['Sunday','Saturday', 'Friday', 'Sunday','Sunday'], 'Length':[3, 3.5,3.5, 3.5, 5], 'Breadth':[2,2,2.5,2,3], 'Price' :[7.5, 7.6, 8, 7.6, 9]}\n",
        "df = pd.DataFrame(data) \n",
        "df\n"
      ]
    },
    {
      "cell_type": "code",
      "source": [
        "import matplotlib.pyplot as plt\n",
        "import numpy as np\n",
        "def simple_linear_regression (x, y):\n",
        "    # number of observations\n",
        "    n=np.size(x) \n",
        "    mean_x = np.mean (x)\n",
        "    mean_y = np.mean (y) \n",
        "    xy = np.sum (y*x) - n*mean_y*mean_x\n",
        "    xx= np.sum (x*x) - n*mean_x*mean_x \n",
        "    # calculating slope\n",
        "    m = xy / xx\n",
        "    #calculating intercept\n",
        "    C = mean_y - m*mean_x\n",
        "    return m,C"
      ],
      "metadata": {
        "id": "QjPNKq1RXlB2"
      },
      "execution_count": null,
      "outputs": []
    },
    {
      "cell_type": "code",
      "source": [
        "\n",
        "import matplotlib.pyplot as plt\n",
        "x=df['Length'].to_numpy()\n",
        "y=df['Price'].to_numpy()\n",
        "m,c = simple_linear_regression (x,y)\n",
        "y_pred = c + m*x\n",
        "plt.plot(x, y_pred, color=\"g\", label='Price Prediction')\n",
        "plt.scatter(df['Length'].to_numpy(), y, marker='1', label='Training set')\n",
        "plt.xlabel('Length')\n",
        "plt.ylabel('Price')\n",
        "plt.legend(bbox_to_anchor=(1, 1))\n",
        "plt.show()"
      ],
      "metadata": {
        "colab": {
          "base_uri": "https://localhost:8080/",
          "height": 279
        },
        "id": "0JORiuWDY91T",
        "outputId": "06995fa9-de4e-4447-f98e-a29527919030"
      },
      "execution_count": null,
      "outputs": [
        {
          "output_type": "display_data",
          "data": {
            "image/png": "[encoded data removed]",
            "text/plain": [
              "<Figure size 432x288 with 1 Axes>"
            ]
          },
          "metadata": {
            "needs_background": "light"
          }
        }
      ]
    },
    {
      "cell_type": "code",
      "source": [
        "import matplotlib.pyplot as plt\n",
        "x=df['Length'].to_numpy()\n",
        "y=df['Price'].to_numpy()\n",
        "m,c = simple_linear_regression (x,y)\n",
        "y_pred = c + m*x\n",
        "plt.plot(x, y_pred, color=\"g\", label='Price Prediction')\n",
        "plt.scatter(df['Breadth'].to_numpy(), y, marker='1', label='Training set')\n",
        "plt.xlabel('Breadth')\n",
        "plt.ylabel('Price')\n",
        "plt.legend(bbox_to_anchor=(1, 1))\n",
        "plt.show()"
      ],
      "metadata": {
        "colab": {
          "base_uri": "https://localhost:8080/",
          "height": 279
        },
        "id": "nyKSTDVTdecP",
        "outputId": "64b68221-8081-4430-8056-292cd6f1783a"
      },
      "execution_count": null,
      "outputs": [
        {
          "output_type": "display_data",
          "data": {
            "image/png": "[encoded data removed]",
            "text/plain": [
              "<Figure size 432x288 with 1 Axes>"
            ]
          },
          "metadata": {
            "needs_background": "light"
          }
        }
      ]
    },
    {
      "cell_type": "code",
      "source": [
        "df['Size' ]=df[ 'Breadth']*df['Length']\n",
        "df[['Candy Variety', 'Price', 'Size']] "
      ],
      "metadata": {
        "colab": {
          "base_uri": "https://localhost:8080/",
          "height": 206
        },
        "id": "4YgAv1b8d1Pd",
        "outputId": "063e87ae-95e7-4fd1-d05b-7cba4a132969"
      },
      "execution_count": null,
      "outputs": [
        {
          "output_type": "execute_result",
          "data": {
            "text/html": [
              "<div>\n",
              "<style scoped>\n",
              "    .dataframe tbody tr th:only-of-type {\n",
              "        vertical-align: middle;\n",
              "    }\n",
              "\n",
              "    .dataframe tbody tr th {\n",
              "        vertical-align: top;\n",
              "    }\n",
              "\n",
              "    .dataframe thead th {\n",
              "        text-align: right;\n",
              "    }\n",
              "</style>\n",
              "<table border=\"1\" class=\"dataframe\">\n",
              "  <thead>\n",
              "    <tr style=\"text-align: right;\">\n",
              "      <th></th>\n",
              "      <th>Candy Variety</th>\n",
              "      <th>Price</th>\n",
              "      <th>Size</th>\n",
              "    </tr>\n",
              "  </thead>\n",
              "  <tbody>\n",
              "    <tr>\n",
              "      <th>0</th>\n",
              "      <td>Chocolate Hearts</td>\n",
              "      <td>7.5</td>\n",
              "      <td>6.00</td>\n",
              "    </tr>\n",
              "    <tr>\n",
              "      <th>1</th>\n",
              "      <td>Sour Jelly</td>\n",
              "      <td>7.6</td>\n",
              "      <td>7.00</td>\n",
              "    </tr>\n",
              "    <tr>\n",
              "      <th>2</th>\n",
              "      <td>Candy Canes</td>\n",
              "      <td>8.0</td>\n",
              "      <td>8.75</td>\n",
              "    </tr>\n",
              "    <tr>\n",
              "      <th>3</th>\n",
              "      <td>SourJelly</td>\n",
              "      <td>7.6</td>\n",
              "      <td>7.00</td>\n",
              "    </tr>\n",
              "    <tr>\n",
              "      <th>4</th>\n",
              "      <td>Fruit Drops</td>\n",
              "      <td>9.0</td>\n",
              "      <td>15.00</td>\n",
              "    </tr>\n",
              "  </tbody>\n",
              "</table>\n",
              "</div>"
            ],
            "text/plain": [
              "      Candy Variety  Price   Size\n",
              "0  Chocolate Hearts    7.5   6.00\n",
              "1        Sour Jelly    7.6   7.00\n",
              "2       Candy Canes    8.0   8.75\n",
              "3         SourJelly    7.6   7.00\n",
              "4       Fruit Drops    9.0  15.00"
            ]
          },
          "metadata": {},
          "execution_count": 8
        }
      ]
    },
    {
      "cell_type": "code",
      "source": [
        "x=df[ 'Size'].to_numpy()\n",
        "y=df['Price'].to_numpy()\n",
        "m,c = simple_linear_regression(x,y)\n",
        "y_pred=c + m*x\n",
        "plt.plot (x, y_pred, color = \"g\", label='Price Prediction')\n",
        "plt.scatter(df['Size'].to_numpy(), y, marker='1', label='Training set')\n",
        "plt.xlabel ('Size')\n",
        "plt.ylabel( 'Price')\n",
        "plt.legend(bbox_to_anchor=(1, 1))\n",
        "plt.show ()"
      ],
      "metadata": {
        "colab": {
          "base_uri": "https://localhost:8080/",
          "height": 279
        },
        "id": "_hPOcFVneLH0",
        "outputId": "f44f3fa2-240b-4bd4-ec85-cdbd7d2379a8"
      },
      "execution_count": null,
      "outputs": [
        {
          "output_type": "display_data",
          "data": {
            "image/png": "[encoded data removed]",
            "text/plain": [
              "<Figure size 432x288 with 1 Axes>"
            ]
          },
          "metadata": {
            "needs_background": "light"
          }
        }
      ]
    }
  ]
}